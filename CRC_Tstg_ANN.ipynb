{
 "cells": [
  {
   "cell_type": "code",
   "execution_count": 1,
   "id": "31afc16f",
   "metadata": {},
   "outputs": [
    {
     "data": {
      "text/plain": [
       "'/Users/ruixu/Library/CloudStorage/OneDrive-TheOhioStateUniversity/Rui Xu-Research/Colon cancer mutiomics study 2022F-/Data analysis/4.ANN OCCPI analysis/OCCPI.Tstg'"
      ]
     },
     "execution_count": 1,
     "metadata": {},
     "output_type": "execute_result"
    }
   ],
   "source": [
    "%pwd"
   ]
  },
  {
   "cell_type": "code",
   "execution_count": 2,
   "id": "54a07520",
   "metadata": {},
   "outputs": [],
   "source": [
    "import pandas as pd\n",
    "import numpy as np\n",
    "import matplotlib.pyplot as plt\n",
    "df = pd.read_csv('/Users/ruixu/Library/CloudStorage/OneDrive-TheOhioStateUniversity/Rui Xu-Research/Colon cancer mutiomics study 2022F-/Data analysis/4.ANN OCCPI analysis/OCCPI.Tstg/OCCPI.Tstg.csv', index_col=0)"
   ]
  },
  {
   "cell_type": "code",
   "execution_count": 3,
   "id": "6e2818b1",
   "metadata": {},
   "outputs": [
    {
     "name": "stdout",
     "output_type": "stream",
     "text": [
      "<class 'pandas.core.frame.DataFrame'>\n",
      "Index: 348 entries, A.416 to A.109\n",
      "Columns: 241 entries, Tstg to Xanthosine dihydrate\n",
      "dtypes: float64(240), int64(1)\n",
      "memory usage: 657.9+ KB\n",
      "None\n"
     ]
    }
   ],
   "source": [
    "df = df.replace([np.inf, -np.inf], np.nan)\n",
    "cols_to_fillna = df.columns[2:]\n",
    "df[cols_to_fillna] = df[cols_to_fillna].fillna(df[cols_to_fillna].mean())\n",
    "#df.drop(df.columns[0], axis=1, inplace=True)\n",
    "print(df.info())\n",
    "#print(df.head())"
   ]
  },
  {
   "cell_type": "code",
   "execution_count": 4,
   "id": "fb9ce204",
   "metadata": {},
   "outputs": [
    {
     "name": "stderr",
     "output_type": "stream",
     "text": [
      "2024-03-11 02:13:51.926443: I tensorflow/core/platform/cpu_feature_guard.cc:193] This TensorFlow binary is optimized with oneAPI Deep Neural Network Library (oneDNN) to use the following CPU instructions in performance-critical operations:  AVX2 AVX512F AVX512_VNNI FMA\n",
      "To enable them in other operations, rebuild TensorFlow with the appropriate compiler flags.\n"
     ]
    },
    {
     "name": "stdout",
     "output_type": "stream",
     "text": [
      "(313,)\n"
     ]
    }
   ],
   "source": [
    "from sklearn.model_selection import train_test_split\n",
    "from sklearn.preprocessing import StandardScaler\n",
    "from keras.utils import to_categorical\n",
    "X = df.iloc[:, 1:]  # 特征\n",
    "y = df['Tstg']  # 标签\n",
    "X_train, X_test, y_train, y_test = train_test_split(X, y, test_size=0.1, random_state=42)\n",
    "print(y_train.shape)\n",
    "scaler = StandardScaler()\n",
    "X_train_normalized = scaler.fit_transform(X_train)\n",
    "X_test_normalized = scaler.transform(X_test)\n",
    "y_train_one_hot = to_categorical(y_train)\n",
    "y_test_one_hot = to_categorical(y_test)"
   ]
  },
  {
   "cell_type": "code",
   "execution_count": 5,
   "id": "569d32c5",
   "metadata": {},
   "outputs": [
    {
     "name": "stderr",
     "output_type": "stream",
     "text": [
      "/var/folders/xm/v410f3rx60n6h8209h6jtpww0000gn/T/ipykernel_33635/3544990636.py:33: DeprecationWarning: KerasClassifier is deprecated, use Sci-Keras (https://github.com/adriangb/scikeras) instead. See https://www.adriangb.com/scikeras/stable/migration.html for help migrating.\n",
      "  sklearn_model = keras.wrappers.scikit_learn.KerasClassifier(build_model)\n"
     ]
    }
   ],
   "source": [
    "import keras\n",
    "from tensorflow.keras.wrappers.scikit_learn import KerasClassifier\n",
    "from keras.layers import Activation\n",
    "def build_model(hidden_layers=1, layer_size=30, learning_rate=3e-3,\n",
    "                activation='relu', regularization=None, reg_strength=1e-4, batch_size=32):\n",
    "    model = keras.models.Sequential()\n",
    "    model.add(keras.layers.Dense(layer_size, activation=activation, input_shape=(X_train.shape[1],)))\n",
    "    \n",
    "    # 添加正则化\n",
    "    if regularization is not None:\n",
    "        if regularization == 'l1':\n",
    "            reg = keras.regularizers.l1(reg_strength)\n",
    "        elif regularization == 'l2':\n",
    "            reg = keras.regularizers.l2(reg_strength)\n",
    "        else:\n",
    "            raise ValueError(\"Invalid regularization type. Choose 'l1' or 'l2'.\")\n",
    "        model.add(keras.layers.Dense(layer_size, activation=activation, kernel_regularizer=reg))\n",
    "    else:\n",
    "        model.add(keras.layers.Dense(layer_size, activation=activation))\n",
    "    \n",
    "    for _ in range(hidden_layers-1):\n",
    "        # 添加正则化\n",
    "        if regularization is not None:\n",
    "            model.add(keras.layers.Dense(layer_size, activation=activation, kernel_regularizer=reg))\n",
    "        else:\n",
    "            model.add(keras.layers.Dense(layer_size, activation=activation))\n",
    "    \n",
    "    model.add(keras.layers.Dense(4))\n",
    "    model.add(Activation('softmax'))\n",
    "    optimizer = keras.optimizers.SGD(learning_rate)\n",
    "    model.compile(loss='categorical_crossentropy', optimizer=optimizer, metrics=['accuracy'])\n",
    "    return model\n",
    "sklearn_model = keras.wrappers.scikit_learn.KerasClassifier(build_model)"
   ]
  },
  {
   "cell_type": "code",
   "execution_count": 6,
   "id": "f9d7b15b",
   "metadata": {},
   "outputs": [
    {
     "name": "stderr",
     "output_type": "stream",
     "text": [
      "2024-03-11 02:13:58.856341: I tensorflow/core/platform/cpu_feature_guard.cc:193] This TensorFlow binary is optimized with oneAPI Deep Neural Network Library (oneDNN) to use the following CPU instructions in performance-critical operations:  AVX2 AVX512F AVX512_VNNI FMA\n",
      "To enable them in other operations, rebuild TensorFlow with the appropriate compiler flags.\n"
     ]
    },
    {
     "data": {
      "image/png": "[encoded data removed]",
      "text/plain": [
       "<Figure size 576x360 with 1 Axes>"
      ]
     },
     "metadata": {
      "needs_background": "light"
     },
     "output_type": "display_data"
    },
    {
     "name": "stdout",
     "output_type": "stream",
     "text": [
      "2/2 [==============================] - 0s 5ms/step - loss: 1.1723 - accuracy: 0.5429\n",
      "Test Accuracy: 0.5428571701049805\n",
      "2/2 [==============================] - 0s 3ms/step\n",
      "AUC Scores: [0.49333333 0.71774194 0.56666667 0.77011494]\n"
     ]
    }
   ],
   "source": [
    "history1 = sklearn_model.fit(X_train_normalized, y_train_one_hot,\n",
    "                            epochs = 100,\n",
    "                            validation_data=(X_test_normalized,y_test_one_hot), \n",
    "                            verbose=0)\n",
    "def plot_learning_curves(history):\n",
    "    pd.DataFrame(history.history).plot(figsize=(8,5))\n",
    "    plt.grid(False)  # 关闭网格线\n",
    "    plt.gca().set_ylim(0,2)\n",
    "    plt.show()\n",
    "plot_learning_curves(history1)\n",
    "test_accuracy = sklearn_model.score(X_test_normalized, y_test_one_hot)\n",
    "print(\"Test Accuracy:\", test_accuracy)\n",
    "from sklearn.metrics import roc_auc_score\n",
    "y_pred_prob = sklearn_model.predict_proba(X_test_normalized)\n",
    "auc_scores = roc_auc_score(y_test_one_hot, y_pred_prob, average=None)\n",
    "print(\"AUC Scores:\", auc_scores)"
   ]
  },
  {
   "cell_type": "code",
   "execution_count": 7,
   "id": "2702552d",
   "metadata": {
    "scrolled": true
   },
   "outputs": [
    {
     "name": "stdout",
     "output_type": "stream",
     "text": [
      "2/2 [==============================] - 0s 5ms/step - loss: 1.4195 - accuracy: 0.4127\n",
      "2/2 [==============================] - 0s 4ms/step - loss: 1.4311 - accuracy: 0.3968\n",
      "2/2 [==============================] - 0s 5ms/step - loss: 1.4437 - accuracy: 0.3016\n",
      "2/2 [==============================] - 0s 7ms/step - loss: 1.4927 - accuracy: 0.4355\n",
      "2/2 [==============================] - 0s 7ms/step - loss: 1.4415 - accuracy: 0.2903\n",
      "1/1 [==============================] - 0s 187ms/step - loss: 1.3856 - accuracy: 0.3016\n",
      "1/1 [==============================] - 0s 263ms/step - loss: 1.5078 - accuracy: 0.1905\n",
      "1/1 [==============================] - 0s 271ms/step - loss: 1.3816 - accuracy: 0.3016\n",
      "1/1 [==============================] - 0s 288ms/step - loss: 1.4758 - accuracy: 0.2903\n",
      "1/1 [==============================] - 0s 204ms/step - loss: 1.4720 - accuracy: 0.2097\n",
      "1/1 [==============================] - 0s 191ms/step - loss: 1.4764 - accuracy: 0.2222\n",
      "1/1 [==============================] - 0s 207ms/step - loss: 1.5483 - accuracy: 0.1429\n",
      "1/1 [==============================] - 0s 203ms/step - loss: 1.5734 - accuracy: 0.0794\n",
      "1/1 [==============================] - 0s 191ms/step - loss: 1.4260 - accuracy: 0.2581\n",
      "1/1 [==============================] - 0s 307ms/step - loss: 1.4113 - accuracy: 0.4032\n",
      "1/1 [==============================] - 0s 179ms/step - loss: 3314.6929 - accuracy: 0.3016\n",
      "1/1 [==============================] - 0s 193ms/step - loss: 3315.7932 - accuracy: 0.2381\n",
      "1/1 [==============================] - 0s 328ms/step - loss: 3309.0925 - accuracy: 0.2381\n",
      "1/1 [==============================] - 0s 281ms/step - loss: 3305.6233 - accuracy: 0.2258\n",
      "1/1 [==============================] - 0s 261ms/step - loss: 3305.0854 - accuracy: 0.3387\n",
      "2/2 [==============================] - 0s 5ms/step - loss: 1.3497 - accuracy: 0.4762\n",
      "2/2 [==============================] - 0s 5ms/step - loss: 1.3467 - accuracy: 0.4444\n",
      "2/2 [==============================] - 0s 6ms/step - loss: 1.3551 - accuracy: 0.3968\n",
      "2/2 [==============================] - 0s 5ms/step - loss: 1.3333 - accuracy: 0.5968\n",
      "2/2 [==============================] - 0s 6ms/step - loss: 1.3797 - accuracy: 0.2903\n",
      "1/1 [==============================] - 0s 199ms/step - loss: 2.1235 - accuracy: 0.2857\n",
      "1/1 [==============================] - 0s 313ms/step - loss: 2.3418 - accuracy: 0.1429\n",
      "1/1 [==============================] - 0s 187ms/step - loss: 2.1912 - accuracy: 0.2381\n",
      "1/1 [==============================] - 0s 269ms/step - loss: 2.2152 - accuracy: 0.2903\n",
      "1/1 [==============================] - 0s 261ms/step - loss: 2.2321 - accuracy: 0.2581\n",
      "4/4 [==============================] - 0s 3ms/step - loss: 1.3144 - accuracy: 0.4762\n",
      "4/4 [==============================] - 0s 3ms/step - loss: 1.3652 - accuracy: 0.4444\n",
      "4/4 [==============================] - 0s 3ms/step - loss: 1.3510 - accuracy: 0.3810\n",
      "4/4 [==============================] - 0s 4ms/step - loss: 1.4387 - accuracy: 0.3387\n",
      "4/4 [==============================] - 0s 3ms/step - loss: 1.4123 - accuracy: 0.2581\n",
      "1/1 [==============================] - 0s 191ms/step - loss: 1.4332 - accuracy: 0.2698\n",
      "1/1 [==============================] - 0s 170ms/step - loss: 1.3881 - accuracy: 0.2540\n",
      "1/1 [==============================] - 0s 197ms/step - loss: 1.3523 - accuracy: 0.5238\n",
      "1/1 [==============================] - 0s 232ms/step - loss: 1.5338 - accuracy: 0.3871\n",
      "1/1 [==============================] - 0s 217ms/step - loss: 1.4582 - accuracy: 0.3871\n",
      "1/1 [==============================] - 0s 203ms/step - loss: 1.3288 - accuracy: 0.3333\n",
      "1/1 [==============================] - 0s 221ms/step - loss: 1.4836 - accuracy: 0.2698\n",
      "1/1 [==============================] - 0s 199ms/step - loss: 1.4433 - accuracy: 0.2381\n",
      "1/1 [==============================] - 0s 217ms/step - loss: 1.4425 - accuracy: 0.2419\n",
      "1/1 [==============================] - 0s 191ms/step - loss: 1.4449 - accuracy: 0.2419\n",
      "2/2 [==============================] - 0s 5ms/step - loss: 1.4333 - accuracy: 0.3651\n",
      "2/2 [==============================] - 0s 4ms/step - loss: 1.5001 - accuracy: 0.2698\n",
      "2/2 [==============================] - 0s 5ms/step - loss: 1.4024 - accuracy: 0.3968\n",
      "2/2 [==============================] - 0s 5ms/step - loss: 1.4749 - accuracy: 0.3871\n",
      "2/2 [==============================] - 0s 5ms/step - loss: 1.4132 - accuracy: 0.2581\n",
      "Best parameters: {'activation': 'relu', 'batch_size': 32, 'hidden_layers': 5, 'layer_size': 14, 'learning_rate': 0.0008631818145675562, 'reg_strength': 0.0009831128763592223, 'regularization': None}\n",
      "Best cross-validation score: 0.4409114241600037\n"
     ]
    }
   ],
   "source": [
    "from scipy.stats import reciprocal\n",
    "from sklearn.model_selection import RandomizedSearchCV\n",
    "\n",
    "param_distribution = {\n",
    "    'hidden_layers': [1, 2, 3, 4, 5],\n",
    "    'layer_size': np.arange(1, 128),  \n",
    "    'learning_rate': reciprocal(1e-4, 1e-2),\n",
    "    'activation': ['relu', 'tanh'],  \n",
    "    'regularization': [None, 'l1', 'l2'],  # 正则化的选择范围\n",
    "    'reg_strength': reciprocal(1e-6, 1),  # 正则化强度的选择范围\n",
    "    'batch_size': [16, 32, 64, 128]  \n",
    "}\n",
    "# 创建神经网络模型\n",
    "random_search_cv = RandomizedSearchCV(sklearn_model,\n",
    "                                     param_distribution,\n",
    "                                     n_iter = 10,\n",
    "                                     cv =5,\n",
    "                                     n_jobs =1)\n",
    "\n",
    "random_search_cv.fit(X_train_normalized, y_train_one_hot, epochs = 10,\n",
    "                    validation_data = (X_test_normalized, y_test_one_hot),\n",
    "                    verbose=0)\n",
    "\n",
    "print(f'Best parameters: {random_search_cv.best_params_}')\n",
    "print(f'Best cross-validation score: {random_search_cv.best_score_}')"
   ]
  },
  {
   "cell_type": "code",
   "execution_count": 8,
   "id": "e3760ca8",
   "metadata": {},
   "outputs": [
    {
     "data": {
      "image/png": "[encoded data removed]",
      "text/plain": [
       "<Figure size 576x360 with 1 Axes>"
      ]
     },
     "metadata": {
      "needs_background": "light"
     },
     "output_type": "display_data"
    },
    {
     "name": "stdout",
     "output_type": "stream",
     "text": [
      "2/2 [==============================] - 0s 7ms/step - loss: 1.2523 - accuracy: 0.5714\n"
     ]
    },
    {
     "data": {
      "text/plain": [
       "[1.2522659301757812, 0.5714285969734192]"
      ]
     },
     "execution_count": 8,
     "metadata": {},
     "output_type": "execute_result"
    }
   ],
   "source": [
    "best_model = random_search_cv.best_estimator_.model\n",
    "history2 = best_model.fit(X_train_normalized, y_train_one_hot,\n",
    "                                 epochs=100,\n",
    "                                 validation_data=(X_test_normalized, y_test_one_hot),\n",
    "                                 verbose=0)\n",
    "plot_learning_curves(history2)\n",
    "best_model.evaluate(X_test_normalized,y_test_one_hot)"
   ]
  },
  {
   "cell_type": "code",
   "execution_count": 9,
   "id": "205e5049",
   "metadata": {},
   "outputs": [],
   "source": [
    "#using all features to optimize the parameter\n",
    "import numpy as np\n",
    "import tensorflow as tf\n",
    "from tensorflow.keras.layers import Input, Dense\n",
    "from tensorflow.keras.models import Model, Sequential\n",
    "from sklearn.preprocessing import StandardScaler\n",
    "from sklearn.model_selection import train_test_split\n",
    "\n",
    "import tensorflow as tf\n",
    "from tensorflow.keras.models import Sequential, Model\n",
    "from tensorflow.keras.layers import Input, Dense\n",
    "\n",
    "def build_encoder(encoding_dim=2):\n",
    "    # Define the encoder model\n",
    "    input_dim = X_train_normalized.shape[1]\n",
    "    input_layer = Input(shape=(input_dim,))\n",
    "    encoded = Dense(encoding_dim, activation='relu')(input_layer)\n",
    "    encoder = Model(input_layer, encoded)\n",
    "\n",
    "    # Compile the encoder model\n",
    "    encoder.compile(optimizer='adam', loss='mse')\n",
    "    return encoder\n"
   ]
  },
  {
   "cell_type": "code",
   "execution_count": 10,
   "id": "634ae00d",
   "metadata": {},
   "outputs": [
    {
     "name": "stdout",
     "output_type": "stream",
     "text": [
      "10/10 [==============================] - 0s 2ms/step\n"
     ]
    },
    {
     "name": "stderr",
     "output_type": "stream",
     "text": [
      "/var/folders/xm/v410f3rx60n6h8209h6jtpww0000gn/T/ipykernel_33635/864461113.py:35: DeprecationWarning: KerasClassifier is deprecated, use Sci-Keras (https://github.com/adriangb/scikeras) instead. See https://www.adriangb.com/scikeras/stable/migration.html for help migrating.\n",
      "  sklearn_model = KerasClassifier(build_fn=build_model_after_encoder)\n"
     ]
    },
    {
     "name": "stdout",
     "output_type": "stream",
     "text": [
      "2/2 [==============================] - 0s 3ms/step\n",
      "Encoding Dim: 2, loss:1.2830570936203003,Test Accuracy: 0.5239616632461548\n",
      "10/10 [==============================] - 0s 1ms/step\n",
      "2/2 [==============================] - 0s 3ms/step\n",
      "Encoding Dim: 3, loss:1.2917557954788208,Test Accuracy: 0.5271565318107605\n",
      "10/10 [==============================] - 0s 2ms/step\n",
      "2/2 [==============================] - 0s 3ms/step\n",
      "Encoding Dim: 4, loss:1.2873687744140625,Test Accuracy: 0.5271565318107605\n",
      "10/10 [==============================] - 0s 2ms/step\n",
      "2/2 [==============================] - 0s 2ms/step\n",
      "Encoding Dim: 5, loss:1.2591352462768555,Test Accuracy: 0.5271565318107605\n",
      "10/10 [==============================] - 0s 2ms/step\n",
      "2/2 [==============================] - 0s 3ms/step\n",
      "Encoding Dim: 6, loss:1.2691808938980103,Test Accuracy: 0.5271565318107605\n",
      "10/10 [==============================] - 0s 2ms/step\n",
      "2/2 [==============================] - 0s 2ms/step\n",
      "Encoding Dim: 7, loss:1.283453106880188,Test Accuracy: 0.5271565318107605\n",
      "10/10 [==============================] - 0s 2ms/step\n",
      "2/2 [==============================] - 0s 3ms/step\n",
      "Encoding Dim: 8, loss:1.2776095867156982,Test Accuracy: 0.5271565318107605\n",
      "10/10 [==============================] - 0s 1ms/step\n",
      "2/2 [==============================] - 0s 2ms/step\n",
      "Encoding Dim: 9, loss:1.236862063407898,Test Accuracy: 0.5271565318107605\n",
      "10/10 [==============================] - 0s 2ms/step\n",
      "2/2 [==============================] - 0s 3ms/step\n",
      "Encoding Dim: 10, loss:1.2286992073059082,Test Accuracy: 0.5271565318107605\n",
      "Best Encoding Dim: 3, Best Test Accuracy: 0.5271565318107605\n"
     ]
    }
   ],
   "source": [
    "def build_model_after_encoder(hidden_layers=random_search_cv.best_params_['hidden_layers'], \n",
    "                              layer_size = random_search_cv.best_params_['layer_size'],\n",
    "                              learning_rate = random_search_cv.best_params_['learning_rate'],\n",
    "                              activation = random_search_cv.best_params_['activation'],\n",
    "                              regularization = random_search_cv.best_params_['regularization'],\n",
    "                              reg_strength = random_search_cv.best_params_['reg_strength'],\n",
    "                              batch_size = random_search_cv.best_params_['batch_size']):\n",
    "    model = keras.models.Sequential()\n",
    "    model.add(keras.layers.Dense(layer_size, activation=activation))\n",
    "    \n",
    "    # 添加正则化\n",
    "    if regularization is not None:\n",
    "        if regularization == 'l1':\n",
    "            reg = keras.regularizers.l1(reg_strength)\n",
    "        elif regularization == 'l2':\n",
    "            reg = keras.regularizers.l2(reg_strength)\n",
    "        else:\n",
    "            raise ValueError(\"Invalid regularization type. Choose 'l1' or 'l2'.\")\n",
    "        model.add(keras.layers.Dense(layer_size, activation=activation, kernel_regularizer=reg))\n",
    "    else:\n",
    "        model.add(keras.layers.Dense(layer_size, activation=activation))\n",
    "    \n",
    "    for _ in range(hidden_layers-1):\n",
    "        # 添加正则化\n",
    "        if regularization is not None:\n",
    "            model.add(keras.layers.Dense(layer_size, activation=activation, kernel_regularizer=reg))\n",
    "        else:\n",
    "            model.add(keras.layers.Dense(layer_size, activation=activation))\n",
    "    \n",
    "    model.add(keras.layers.Dense(4))\n",
    "    model.add(keras.layers.Activation('softmax'))\n",
    "    optimizer = keras.optimizers.SGD(learning_rate)\n",
    "    model.compile(loss='categorical_crossentropy', optimizer=optimizer, metrics=['accuracy'])\n",
    "    return model\n",
    "sklearn_model = KerasClassifier(build_fn=build_model_after_encoder)\n",
    "from sklearn.preprocessing import FunctionTransformer\n",
    "from sklearn.model_selection import cross_val_score\n",
    "from sklearn.preprocessing import StandardScaler\n",
    "from sklearn.pipeline import Pipeline\n",
    "import numpy as np\n",
    "\n",
    "best_test_accuracy = 0\n",
    "best_encoding_dim = None\n",
    "best_loss = float('inf')\n",
    "best_history = None\n",
    "best_model = None\n",
    "\n",
    "# 循环遍历编码维度\n",
    "for encoding_dim in range(2, 11):\n",
    "    encoder_model = build_encoder(encoding_dim)\n",
    "    #dummy_target = np.zeros((X_train_normalized.shape[0], encoding_dim))\n",
    "    #encoder_model.fit(X_train_normalized, dummy_target)\n",
    "    X_train_encoded = encoder_model.predict(X_train_normalized)\n",
    "    X_test_encoded = encoder_model.predict(X_test_normalized)\n",
    "    history = sklearn_model.fit(X_train_encoded, y_train_one_hot,\n",
    "                            epochs=100,\n",
    "                            validation_data=(X_test_encoded, y_test_one_hot),\n",
    "                            verbose=0)\n",
    "\n",
    "    test_accuracy = history.history['accuracy'][-1]\n",
    "    test_loss = history.history['loss'][-1]\n",
    "    print(f\"Encoding Dim: {encoding_dim}, loss:{test_loss},Test Accuracy: {test_accuracy}\")\n",
    "    \n",
    "    if test_accuracy > best_test_accuracy:\n",
    "        best_test_accuracy = test_accuracy\n",
    "        best_encoding_dim = encoding_dim\n",
    "        best_loss = test_loss\n",
    "        best_history = history\n",
    "        best_model = sklearn_model\n",
    "\n",
    "print(f\"Best Encoding Dim: {best_encoding_dim}, Best Test Accuracy: {best_test_accuracy}\")\n",
    "history3 = best_history\n",
    "sklearn_model3=best_model"
   ]
  },
  {
   "cell_type": "code",
   "execution_count": 11,
   "id": "b2e3d600",
   "metadata": {
    "scrolled": true
   },
   "outputs": [
    {
     "data": {
      "image/png": "[encoded data removed]",
      "text/plain": [
       "<Figure size 576x360 with 1 Axes>"
      ]
     },
     "metadata": {
      "needs_background": "light"
     },
     "output_type": "display_data"
    },
    {
     "name": "stdout",
     "output_type": "stream",
     "text": [
      "2/2 [==============================] - 0s 6ms/step - loss: 1.1545 - accuracy: 0.5714\n",
      "Test Accuracy: 0.5271565318107605\n"
     ]
    }
   ],
   "source": [
    "plot_learning_curves(history3)\n",
    "test_accuracy = sklearn_model3.score(X_test_encoded, y_test_one_hot)\n",
    "print(\"Test Accuracy:\", best_test_accuracy)"
   ]
  },
  {
   "cell_type": "code",
   "execution_count": 12,
   "id": "ef0497ce",
   "metadata": {},
   "outputs": [],
   "source": [
    "df1 = pd.read_csv('/Users/ruixu/Library/CloudStorage/OneDrive-TheOhioStateUniversity/Rui Xu-Research/Colon cancer mutiomics study 2022F-/Data analysis/4.ANN OCCPI analysis/OCCPI.Tstg/plsda_score.csv', index_col=0)"
   ]
  },
  {
   "cell_type": "code",
   "execution_count": 13,
   "id": "11bbbcc7",
   "metadata": {},
   "outputs": [
    {
     "name": "stdout",
     "output_type": "stream",
     "text": [
      "<class 'pandas.core.frame.DataFrame'>\n",
      "Index: 348 entries, A.1 to A.99\n",
      "Data columns (total 9 columns):\n",
      " #   Column  Non-Null Count  Dtype  \n",
      "---  ------  --------------  -----  \n",
      " 0   Tstg    348 non-null    int64  \n",
      " 1   Comp 1  348 non-null    float64\n",
      " 2   Comp 2  348 non-null    float64\n",
      " 3   Comp 3  348 non-null    float64\n",
      " 4   Comp 4  348 non-null    float64\n",
      " 5   Comp 5  348 non-null    float64\n",
      " 6   Comp 6  348 non-null    float64\n",
      " 7   Comp 7  348 non-null    float64\n",
      " 8   Comp 8  348 non-null    float64\n",
      "dtypes: float64(8), int64(1)\n",
      "memory usage: 27.2+ KB\n",
      "None\n"
     ]
    }
   ],
   "source": [
    "df1 = df1.replace([np.inf, -np.inf], np.nan)\n",
    "cols_to_fillna = df1.columns[2:]\n",
    "df1[cols_to_fillna] = df1[cols_to_fillna].fillna(df1[cols_to_fillna].mean())\n",
    "print(df1.info())"
   ]
  },
  {
   "cell_type": "code",
   "execution_count": 14,
   "id": "ec678bad",
   "metadata": {},
   "outputs": [
    {
     "name": "stdout",
     "output_type": "stream",
     "text": [
      "(313,)\n"
     ]
    }
   ],
   "source": [
    "X1 = df1.iloc[:, 1:]  # 特征\n",
    "y1 = df1['Tstg']  # 标签\n",
    "X1_train, X1_test, y1_train, y1_test = train_test_split(X1, y1, test_size=0.1, random_state=42)\n",
    "print(y1_train.shape)\n",
    "scaler = StandardScaler()\n",
    "X1_train_normalized = scaler.fit_transform(X1_train)\n",
    "X1_test_normalized = scaler.transform(X1_test)\n",
    "y1_train_one_hot = to_categorical(y1_train)\n",
    "y1_test_one_hot = to_categorical(y1_test)"
   ]
  },
  {
   "cell_type": "code",
   "execution_count": 15,
   "id": "b7a8440f",
   "metadata": {},
   "outputs": [
    {
     "name": "stderr",
     "output_type": "stream",
     "text": [
      "/var/folders/xm/v410f3rx60n6h8209h6jtpww0000gn/T/ipykernel_33635/2715415626.py:36: DeprecationWarning: KerasClassifier is deprecated, use Sci-Keras (https://github.com/adriangb/scikeras) instead. See https://www.adriangb.com/scikeras/stable/migration.html for help migrating.\n",
      "  sklearn_model4 = KerasClassifier(build_fn=build_model, input_shape=(X1_train_normalized.shape[1],),\n"
     ]
    },
    {
     "data": {
      "image/png": "[encoded data removed]",
      "text/plain": [
       "<Figure size 576x360 with 1 Axes>"
      ]
     },
     "metadata": {
      "needs_background": "light"
     },
     "output_type": "display_data"
    },
    {
     "name": "stdout",
     "output_type": "stream",
     "text": [
      "Test Accuracy: 0.6285714507102966\n"
     ]
    }
   ],
   "source": [
    "# 修改 build_model 函数，添加 input_shape 参数\n",
    "import keras\n",
    "from tensorflow.keras.wrappers.scikit_learn import KerasClassifier\n",
    "from keras.layers import Activation\n",
    "def build_model(input_shape, hidden_layers=1, layer_size=30, learning_rate=3e-3,\n",
    "                activation='relu', regularization=None, reg_strength=1e-4, batch_size=32):\n",
    "    model = keras.models.Sequential()\n",
    "    model.add(keras.layers.Dense(layer_size, activation=activation, input_shape=input_shape))\n",
    "    \n",
    "    # 添加正则化\n",
    "    if regularization is not None:\n",
    "        if regularization == 'l1':\n",
    "            reg = keras.regularizers.l1(reg_strength)\n",
    "        elif regularization == 'l2':\n",
    "            reg = keras.regularizers.l2(reg_strength)\n",
    "        else:\n",
    "            raise ValueError(\"Invalid regularization type. Choose 'l1' or 'l2'.\")\n",
    "        model.add(keras.layers.Dense(layer_size, activation=activation, kernel_regularizer=reg))\n",
    "    else:\n",
    "        model.add(keras.layers.Dense(layer_size, activation=activation))\n",
    "    \n",
    "    for _ in range(hidden_layers-1):\n",
    "        # 添加正则化\n",
    "        if regularization is not None:\n",
    "            model.add(keras.layers.Dense(layer_size, activation=activation, kernel_regularizer=reg))\n",
    "        else:\n",
    "            model.add(keras.layers.Dense(layer_size, activation=activation))\n",
    "    \n",
    "    model.add(keras.layers.Dense(4))\n",
    "    model.add(Activation('softmax'))\n",
    "    optimizer = keras.optimizers.SGD(learning_rate)\n",
    "    model.compile(loss='categorical_crossentropy', optimizer=optimizer, metrics=['accuracy'])\n",
    "    return model\n",
    "\n",
    "# 创建 KerasClassifier 实例时传递 input_shape 参数\n",
    "sklearn_model4 = KerasClassifier(build_fn=build_model, input_shape=(X1_train_normalized.shape[1],),\n",
    "                                  epochs=100, batch_size=32, verbose=0)\n",
    "\n",
    "# 训练模型\n",
    "history4 = sklearn_model4.fit(X1_train_normalized, y1_train_one_hot, validation_data=(X1_test_normalized, y1_test_one_hot))\n",
    "\n",
    "\n",
    "test_accuracy = sklearn_model4.score(X1_test_normalized, y1_test_one_hot)\n",
    "\n",
    "# 绘制学习曲线\n",
    "plot_learning_curves(history4)\n",
    "print(\"Test Accuracy:\", test_accuracy)\n"
   ]
  },
  {
   "cell_type": "code",
   "execution_count": 16,
   "id": "10d55986",
   "metadata": {},
   "outputs": [
    {
     "ename": "ValueError",
     "evalue": "This model has not yet been built. Build the model first by calling `build()` or by calling the model on a batch of data.",
     "output_type": "error",
     "traceback": [
      "\u001b[0;31m---------------------------------------------------------------------------\u001b[0m",
      "\u001b[0;31mValueError\u001b[0m                                Traceback (most recent call last)",
      "Input \u001b[0;32mIn [16]\u001b[0m, in \u001b[0;36m<cell line: 8>\u001b[0;34m()\u001b[0m\n\u001b[1;32m      5\u001b[0m keras_model \u001b[38;5;241m=\u001b[39m sklearn_model3\u001b[38;5;241m.\u001b[39mbuild_fn(\u001b[38;5;241m*\u001b[39m\u001b[38;5;241m*\u001b[39msklearn_model3\u001b[38;5;241m.\u001b[39mfilter_sk_params(sklearn_model3\u001b[38;5;241m.\u001b[39mbuild_fn))\n\u001b[1;32m      7\u001b[0m \u001b[38;5;66;03m# 可视化模型结构并保存为图片\u001b[39;00m\n\u001b[0;32m----> 8\u001b[0m \u001b[43mplot_model\u001b[49m\u001b[43m(\u001b[49m\u001b[43mkeras_model\u001b[49m\u001b[43m,\u001b[49m\u001b[43m \u001b[49m\u001b[43mto_file\u001b[49m\u001b[38;5;241;43m=\u001b[39;49m\u001b[38;5;124;43m'\u001b[39;49m\u001b[38;5;124;43mmodel_structure.png\u001b[39;49m\u001b[38;5;124;43m'\u001b[39;49m\u001b[43m,\u001b[49m\u001b[43m \u001b[49m\u001b[43mshow_shapes\u001b[49m\u001b[38;5;241;43m=\u001b[39;49m\u001b[38;5;28;43;01mTrue\u001b[39;49;00m\u001b[43m,\u001b[49m\u001b[43m \u001b[49m\u001b[43mshow_layer_names\u001b[49m\u001b[38;5;241;43m=\u001b[39;49m\u001b[38;5;28;43;01mTrue\u001b[39;49;00m\u001b[43m)\u001b[49m\n",
      "File \u001b[0;32m~/opt/anaconda3/lib/python3.9/site-packages/keras/utils/vis_utils.py:430\u001b[0m, in \u001b[0;36mplot_model\u001b[0;34m(model, to_file, show_shapes, show_dtype, show_layer_names, rankdir, expand_nested, dpi, layer_range, show_layer_activations)\u001b[0m\n\u001b[1;32m    379\u001b[0m \u001b[38;5;124;03m\"\"\"Converts a Keras model to dot format and save to a file.\u001b[39;00m\n\u001b[1;32m    380\u001b[0m \n\u001b[1;32m    381\u001b[0m \u001b[38;5;124;03mExample:\u001b[39;00m\n\u001b[0;32m   (...)\u001b[0m\n\u001b[1;32m    426\u001b[0m \u001b[38;5;124;03m  This enables in-line display of the model plots in notebooks.\u001b[39;00m\n\u001b[1;32m    427\u001b[0m \u001b[38;5;124;03m\"\"\"\u001b[39;00m\n\u001b[1;32m    429\u001b[0m \u001b[38;5;28;01mif\u001b[39;00m \u001b[38;5;129;01mnot\u001b[39;00m model\u001b[38;5;241m.\u001b[39mbuilt:\n\u001b[0;32m--> 430\u001b[0m     \u001b[38;5;28;01mraise\u001b[39;00m \u001b[38;5;167;01mValueError\u001b[39;00m(\n\u001b[1;32m    431\u001b[0m         \u001b[38;5;124m\"\u001b[39m\u001b[38;5;124mThis model has not yet been built. \u001b[39m\u001b[38;5;124m\"\u001b[39m\n\u001b[1;32m    432\u001b[0m         \u001b[38;5;124m\"\u001b[39m\u001b[38;5;124mBuild the model first by calling `build()` or by calling \u001b[39m\u001b[38;5;124m\"\u001b[39m\n\u001b[1;32m    433\u001b[0m         \u001b[38;5;124m\"\u001b[39m\u001b[38;5;124mthe model on a batch of data.\u001b[39m\u001b[38;5;124m\"\u001b[39m\n\u001b[1;32m    434\u001b[0m     )\n\u001b[1;32m    436\u001b[0m \u001b[38;5;28;01mif\u001b[39;00m \u001b[38;5;129;01mnot\u001b[39;00m check_graphviz():\n\u001b[1;32m    437\u001b[0m     message \u001b[38;5;241m=\u001b[39m (\n\u001b[1;32m    438\u001b[0m         \u001b[38;5;124m\"\u001b[39m\u001b[38;5;124mYou must install pydot (`pip install pydot`) \u001b[39m\u001b[38;5;124m\"\u001b[39m\n\u001b[1;32m    439\u001b[0m         \u001b[38;5;124m\"\u001b[39m\u001b[38;5;124mand install graphviz \u001b[39m\u001b[38;5;124m\"\u001b[39m\n\u001b[1;32m    440\u001b[0m         \u001b[38;5;124m\"\u001b[39m\u001b[38;5;124m(see instructions at https://graphviz.gitlab.io/download/) \u001b[39m\u001b[38;5;124m\"\u001b[39m\n\u001b[1;32m    441\u001b[0m         \u001b[38;5;124m\"\u001b[39m\u001b[38;5;124mfor plot_model to work.\u001b[39m\u001b[38;5;124m\"\u001b[39m\n\u001b[1;32m    442\u001b[0m     )\n",
      "\u001b[0;31mValueError\u001b[0m: This model has not yet been built. Build the model first by calling `build()` or by calling the model on a batch of data."
     ]
    }
   ],
   "source": [
    "from keras.models import Model\n",
    "from keras.utils.vis_utils import plot_model\n",
    "\n",
    "# 获取Keras模型对象\n",
    "keras_model = sklearn_model3.build_fn(**sklearn_model3.filter_sk_params(sklearn_model3.build_fn))\n",
    "\n",
    "# 可视化模型结构并保存为图片\n",
    "plot_model(keras_model, to_file='model_structure.png', show_shapes=True, show_layer_names=True)\n"
   ]
  }
 ],
 "metadata": {
  "kernelspec": {
   "display_name": "Python 3 (ipykernel)",
   "language": "python",
   "name": "python3"
  },
  "language_info": {
   "codemirror_mode": {
    "name": "ipython",
    "version": 3
   },
   "file_extension": ".py",
   "mimetype": "text/x-python",
   "name": "python",
   "nbconvert_exporter": "python",
   "pygments_lexer": "ipython3",
   "version": "3.9.12"
  }
 },
 "nbformat": 4,
 "nbformat_minor": 5
}
